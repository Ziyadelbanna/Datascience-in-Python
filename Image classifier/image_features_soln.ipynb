{
  "nbformat": 4,
  "nbformat_minor": 0,
  "metadata": {
    "kernelspec": {
      "display_name": "Python 2",
      "language": "python",
      "name": "python2"
    },
    "language_info": {
      "codemirror_mode": {
        "name": "ipython",
        "version": 3
      },
      "file_extension": ".py",
      "mimetype": "text/x-python",
      "name": "python",
      "nbconvert_exporter": "python",
      "pygments_lexer": "ipython3",
      "version": "3.6.4"
    },
    "colab": {
      "name": "features_soln.ipynb",
      "provenance": [],
      "toc_visible": true
    }
  },
  "cells": [
    {
      "cell_type": "markdown",
      "metadata": {
        "id": "PWlDhv5GyC3g",
        "colab_type": "text"
      },
      "source": [
        "# Image features exercise\n",
        "*Complete and hand in this completed worksheet (including its outputs and any supporting code outside of the worksheet) with your assignment submission. For more details see the [assignments page](http://vision.stanford.edu/teaching/cs231n/assignments.html) on the course website.*\n",
        "\n",
        "We have seen that we can achieve reasonable performance on an image classification task by training a linear classifier on the pixels of the input image. In this exercise we will show that we can improve our classification performance by training linear classifiers not on raw pixels but on features that are computed from the raw pixels.\n",
        "\n",
        "All of your work for this exercise will be done in this notebook."
      ]
    },
    {
      "cell_type": "code",
      "metadata": {
        "id": "lpJTD6Ceyswa",
        "colab_type": "code",
        "outputId": "8c23ffb5-7e2b-4d84-f520-aa7d53c2b5fe",
        "colab": {
          "base_uri": "https://localhost:8080/",
          "height": 122
        }
      },
      "source": [
        "from google.colab import drive\n",
        "drive.mount('/content/drive')"
      ],
      "execution_count": 0,
      "outputs": [
        {
          "output_type": "stream",
          "text": [
            "Go to this URL in a browser: https://accounts.google.com/o/oauth2/auth?client_id=947318989803-6bn6qk8qdgf4n4g3pfee6491hc0brc4i.apps.googleusercontent.com&redirect_uri=urn%3aietf%3awg%3aoauth%3a2.0%3aoob&response_type=code&scope=email%20https%3a%2f%2fwww.googleapis.com%2fauth%2fdocs.test%20https%3a%2f%2fwww.googleapis.com%2fauth%2fdrive%20https%3a%2f%2fwww.googleapis.com%2fauth%2fdrive.photos.readonly%20https%3a%2f%2fwww.googleapis.com%2fauth%2fpeopleapi.readonly\n",
            "\n",
            "Enter your authorization code:\n",
            "··········\n",
            "Mounted at /content/drive\n"
          ],
          "name": "stdout"
        }
      ]
    },
    {
      "cell_type": "code",
      "metadata": {
        "id": "65CjIA0ZyC3l",
        "colab_type": "code",
        "outputId": "10dd004a-3e5a-4c02-f890-e8eac1b12c22",
        "colab": {
          "base_uri": "https://localhost:8080/",
          "height": 51
        }
      },
      "source": [
        "import random\n",
        "import numpy as np\n",
        "import imp\n",
        "load_CIFAR10 = imp.load_source('load_CIFAR10', '/content/drive/My Drive/classifiers/assignment1/cs231n/data_utils.py')\n",
        "from load_CIFAR10 import load_CIFAR10\n",
        "\n",
        "#from cs231n.data_utils import load_CIFAR10\n",
        "import matplotlib.pyplot as plt\n",
        "\n",
        "from __future__ import print_function\n",
        "\n",
        "%matplotlib inline\n",
        "plt.rcParams['figure.figsize'] = (10.0, 8.0) # set default size of plots\n",
        "plt.rcParams['image.interpolation'] = 'nearest'\n",
        "plt.rcParams['image.cmap'] = 'gray'\n",
        "\n",
        "# for auto-reloading extenrnal modules\n",
        "# see http://stackoverflow.com/questions/1907993/autoreload-of-modules-in-ipython\n",
        "%load_ext autoreload\n",
        "%autoreload 2"
      ],
      "execution_count": 0,
      "outputs": [
        {
          "output_type": "stream",
          "text": [
            "The autoreload extension is already loaded. To reload it, use:\n",
            "  %reload_ext autoreload\n"
          ],
          "name": "stdout"
        }
      ]
    },
    {
      "cell_type": "markdown",
      "metadata": {
        "id": "sLOj1uECyC3r",
        "colab_type": "text"
      },
      "source": [
        "## Load data\n",
        "Similar to previous exercises, we will load CIFAR-10 data from disk."
      ]
    },
    {
      "cell_type": "code",
      "metadata": {
        "id": "dHt8UGYxyC3t",
        "colab_type": "code",
        "outputId": "b0a0725a-af6a-43a5-8df9-970d1a73226f",
        "colab": {
          "base_uri": "https://localhost:8080/",
          "height": 340
        }
      },
      "source": [
        "features = imp.load_source('features', '/content/drive/My Drive/classifiers/assignment1/cs231n/features.py')\n",
        "\n",
        "from features import color_histogram_hsv, hog_feature\n",
        "\n",
        "def get_CIFAR10_data(num_training=49000, num_validation=1000, num_test=1000):\n",
        "    # Load the raw CIFAR-10 data\n",
        "    cifar10_dir = 'cs231n/datasets/cifar-10-batches-py'\n",
        "\n",
        "    X_train, y_train, X_test, y_test = load_CIFAR10(cifar10_dir)\n",
        "    \n",
        "    # Subsample the data\n",
        "    mask = list(range(num_training, num_training + num_validation))\n",
        "    X_val = X_train[mask]\n",
        "    y_val = y_train[mask]\n",
        "    mask = list(range(num_training))\n",
        "    X_train = X_train[mask]\n",
        "    y_train = y_train[mask]\n",
        "    mask = list(range(num_test))\n",
        "    X_test = X_test[mask]\n",
        "    y_test = y_test[mask]\n",
        "    \n",
        "    return X_train, y_train, X_val, y_val, X_test, y_test\n",
        "\n",
        "# Cleaning up variables to prevent loading data multiple times (which may cause memory issue)\n",
        "try:\n",
        "   del X_train, y_train\n",
        "   del X_test, y_test\n",
        "   print('Clear previously loaded data.')\n",
        "except:\n",
        "   pass\n",
        "\n",
        "X_train, y_train, X_val, y_val, X_test, y_test = get_CIFAR10_data()"
      ],
      "execution_count": 0,
      "outputs": [
        {
          "output_type": "error",
          "ename": "IOError",
          "evalue": "ignored",
          "traceback": [
            "\u001b[0;31m\u001b[0m",
            "\u001b[0;31mIOError\u001b[0mTraceback (most recent call last)",
            "\u001b[0;32m<ipython-input-4-d434d1bb1991>\u001b[0m in \u001b[0;36m<module>\u001b[0;34m()\u001b[0m\n\u001b[1;32m     30\u001b[0m    \u001b[0;32mpass\u001b[0m\u001b[0;34m\u001b[0m\u001b[0;34m\u001b[0m\u001b[0m\n\u001b[1;32m     31\u001b[0m \u001b[0;34m\u001b[0m\u001b[0m\n\u001b[0;32m---> 32\u001b[0;31m \u001b[0mX_train\u001b[0m\u001b[0;34m,\u001b[0m \u001b[0my_train\u001b[0m\u001b[0;34m,\u001b[0m \u001b[0mX_val\u001b[0m\u001b[0;34m,\u001b[0m \u001b[0my_val\u001b[0m\u001b[0;34m,\u001b[0m \u001b[0mX_test\u001b[0m\u001b[0;34m,\u001b[0m \u001b[0my_test\u001b[0m \u001b[0;34m=\u001b[0m \u001b[0mget_CIFAR10_data\u001b[0m\u001b[0;34m(\u001b[0m\u001b[0;34m)\u001b[0m\u001b[0;34m\u001b[0m\u001b[0;34m\u001b[0m\u001b[0m\n\u001b[0m",
            "\u001b[0;32m<ipython-input-4-d434d1bb1991>\u001b[0m in \u001b[0;36mget_CIFAR10_data\u001b[0;34m(num_training, num_validation, num_test)\u001b[0m\n\u001b[1;32m      7\u001b[0m     \u001b[0mcifar10_dir\u001b[0m \u001b[0;34m=\u001b[0m \u001b[0;34m'cs231n/datasets/cifar-10-batches-py'\u001b[0m\u001b[0;34m\u001b[0m\u001b[0;34m\u001b[0m\u001b[0m\n\u001b[1;32m      8\u001b[0m \u001b[0;34m\u001b[0m\u001b[0m\n\u001b[0;32m----> 9\u001b[0;31m     \u001b[0mX_train\u001b[0m\u001b[0;34m,\u001b[0m \u001b[0my_train\u001b[0m\u001b[0;34m,\u001b[0m \u001b[0mX_test\u001b[0m\u001b[0;34m,\u001b[0m \u001b[0my_test\u001b[0m \u001b[0;34m=\u001b[0m \u001b[0mload_CIFAR10\u001b[0m\u001b[0;34m(\u001b[0m\u001b[0mcifar10_dir\u001b[0m\u001b[0;34m)\u001b[0m\u001b[0;34m\u001b[0m\u001b[0;34m\u001b[0m\u001b[0m\n\u001b[0m\u001b[1;32m     10\u001b[0m \u001b[0;34m\u001b[0m\u001b[0m\n\u001b[1;32m     11\u001b[0m     \u001b[0;31m# Subsample the data\u001b[0m\u001b[0;34m\u001b[0m\u001b[0;34m\u001b[0m\u001b[0;34m\u001b[0m\u001b[0m\n",
            "\u001b[0;32m/content/drive/My Drive/classifiers/assignment1/cs231n/data_utils.pyc\u001b[0m in \u001b[0;36mload_CIFAR10\u001b[0;34m(ROOT)\u001b[0m\n\u001b[1;32m     31\u001b[0m   \u001b[0;32mfor\u001b[0m \u001b[0mb\u001b[0m \u001b[0;32min\u001b[0m \u001b[0mrange\u001b[0m\u001b[0;34m(\u001b[0m\u001b[0;36m1\u001b[0m\u001b[0;34m,\u001b[0m\u001b[0;36m6\u001b[0m\u001b[0;34m)\u001b[0m\u001b[0;34m:\u001b[0m\u001b[0;34m\u001b[0m\u001b[0;34m\u001b[0m\u001b[0m\n\u001b[1;32m     32\u001b[0m     \u001b[0mf\u001b[0m \u001b[0;34m=\u001b[0m \u001b[0mos\u001b[0m\u001b[0;34m.\u001b[0m\u001b[0mpath\u001b[0m\u001b[0;34m.\u001b[0m\u001b[0mjoin\u001b[0m\u001b[0;34m(\u001b[0m\u001b[0mROOT\u001b[0m\u001b[0;34m,\u001b[0m \u001b[0;34m'data_batch_%d'\u001b[0m \u001b[0;34m%\u001b[0m \u001b[0;34m(\u001b[0m\u001b[0mb\u001b[0m\u001b[0;34m,\u001b[0m \u001b[0;34m)\u001b[0m\u001b[0;34m)\u001b[0m\u001b[0;34m\u001b[0m\u001b[0;34m\u001b[0m\u001b[0m\n\u001b[0;32m---> 33\u001b[0;31m     \u001b[0mX\u001b[0m\u001b[0;34m,\u001b[0m \u001b[0mY\u001b[0m \u001b[0;34m=\u001b[0m \u001b[0mload_CIFAR_batch\u001b[0m\u001b[0;34m(\u001b[0m\u001b[0mf\u001b[0m\u001b[0;34m)\u001b[0m\u001b[0;34m\u001b[0m\u001b[0;34m\u001b[0m\u001b[0m\n\u001b[0m\u001b[1;32m     34\u001b[0m     \u001b[0mxs\u001b[0m\u001b[0;34m.\u001b[0m\u001b[0mappend\u001b[0m\u001b[0;34m(\u001b[0m\u001b[0mX\u001b[0m\u001b[0;34m)\u001b[0m\u001b[0;34m\u001b[0m\u001b[0;34m\u001b[0m\u001b[0m\n\u001b[1;32m     35\u001b[0m     \u001b[0mys\u001b[0m\u001b[0;34m.\u001b[0m\u001b[0mappend\u001b[0m\u001b[0;34m(\u001b[0m\u001b[0mY\u001b[0m\u001b[0;34m)\u001b[0m\u001b[0;34m\u001b[0m\u001b[0;34m\u001b[0m\u001b[0m\n",
            "\u001b[0;32m/content/drive/My Drive/classifiers/assignment1/cs231n/data_utils.pyc\u001b[0m in \u001b[0;36mload_CIFAR_batch\u001b[0;34m(filename)\u001b[0m\n\u001b[1;32m     17\u001b[0m \u001b[0;32mdef\u001b[0m \u001b[0mload_CIFAR_batch\u001b[0m\u001b[0;34m(\u001b[0m\u001b[0mfilename\u001b[0m\u001b[0;34m)\u001b[0m\u001b[0;34m:\u001b[0m\u001b[0;34m\u001b[0m\u001b[0;34m\u001b[0m\u001b[0m\n\u001b[1;32m     18\u001b[0m   \u001b[0;34m\"\"\" load single batch of cifar \"\"\"\u001b[0m\u001b[0;34m\u001b[0m\u001b[0;34m\u001b[0m\u001b[0m\n\u001b[0;32m---> 19\u001b[0;31m   \u001b[0;32mwith\u001b[0m \u001b[0mopen\u001b[0m\u001b[0;34m(\u001b[0m\u001b[0mfilename\u001b[0m\u001b[0;34m,\u001b[0m \u001b[0;34m'rb'\u001b[0m\u001b[0;34m)\u001b[0m \u001b[0;32mas\u001b[0m \u001b[0mf\u001b[0m\u001b[0;34m:\u001b[0m\u001b[0;34m\u001b[0m\u001b[0;34m\u001b[0m\u001b[0m\n\u001b[0m\u001b[1;32m     20\u001b[0m     \u001b[0mdatadict\u001b[0m \u001b[0;34m=\u001b[0m \u001b[0mload_pickle\u001b[0m\u001b[0;34m(\u001b[0m\u001b[0mf\u001b[0m\u001b[0;34m)\u001b[0m\u001b[0;34m\u001b[0m\u001b[0;34m\u001b[0m\u001b[0m\n\u001b[1;32m     21\u001b[0m     \u001b[0mX\u001b[0m \u001b[0;34m=\u001b[0m \u001b[0mdatadict\u001b[0m\u001b[0;34m[\u001b[0m\u001b[0;34m'data'\u001b[0m\u001b[0;34m]\u001b[0m\u001b[0;34m\u001b[0m\u001b[0;34m\u001b[0m\u001b[0m\n",
            "\u001b[0;31mIOError\u001b[0m: [Errno 2] No such file or directory: 'cs231n/datasets/cifar-10-batches-py/data_batch_1'"
          ]
        }
      ]
    },
    {
      "cell_type": "markdown",
      "metadata": {
        "id": "7-U1bDOHyC3x",
        "colab_type": "text"
      },
      "source": [
        "## Extract Features\n",
        "For each image we will compute a Histogram of Oriented\n",
        "Gradients (HOG) as well as a color histogram using the hue channel in HSV\n",
        "color space. We form our final feature vector for each image by concatenating\n",
        "the HOG and color histogram feature vectors.\n",
        "\n",
        "Roughly speaking, HOG should capture the texture of the image while ignoring\n",
        "color information, and the color histogram represents the color of the input\n",
        "image while ignoring texture. As a result, we expect that using both together\n",
        "ought to work better than using either alone. Verifying this assumption would\n",
        "be a good thing to try for your interests.\n",
        "\n",
        "The `hog_feature` and `color_histogram_hsv` functions both operate on a single\n",
        "image and return a feature vector for that image. The extract_features\n",
        "function takes a set of images and a list of feature functions and evaluates\n",
        "each feature function on each image, storing the results in a matrix where\n",
        "each column is the concatenation of all feature vectors for a single image."
      ]
    },
    {
      "cell_type": "code",
      "metadata": {
        "id": "HKEH9OfnyC3y",
        "colab_type": "code",
        "colab": {}
      },
      "source": [
        "from features import *\n",
        "\n",
        "num_color_bins = 10 # Number of bins in the color histogram\n",
        "feature_fns = [hog_feature, lambda img: color_histogram_hsv(img, nbin=num_color_bins)]\n",
        "X_train_feats = extract_features(X_train, feature_fns, verbose=True)\n",
        "X_val_feats = extract_features(X_val, feature_fns)\n",
        "X_test_feats = extract_features(X_test, feature_fns)\n",
        "\n",
        "# Preprocessing: Subtract the mean feature\n",
        "mean_feat = np.mean(X_train_feats, axis=0, keepdims=True)\n",
        "X_train_feats -= mean_feat\n",
        "X_val_feats -= mean_feat\n",
        "X_test_feats -= mean_feat\n",
        "\n",
        "# Preprocessing: Divide by standard deviation. This ensures that each feature\n",
        "# has roughly the same scale.\n",
        "std_feat = np.std(X_train_feats, axis=0, keepdims=True)\n",
        "X_train_feats /= std_feat\n",
        "X_val_feats /= std_feat\n",
        "X_test_feats /= std_feat\n",
        "\n",
        "# Preprocessing: Add a bias dimension\n",
        "X_train_feats = np.hstack([X_train_feats, np.ones((X_train_feats.shape[0], 1))])\n",
        "X_val_feats = np.hstack([X_val_feats, np.ones((X_val_feats.shape[0], 1))])\n",
        "X_test_feats = np.hstack([X_test_feats, np.ones((X_test_feats.shape[0], 1))])"
      ],
      "execution_count": 0,
      "outputs": []
    },
    {
      "cell_type": "markdown",
      "metadata": {
        "id": "gvuh8NjcyC33",
        "colab_type": "text"
      },
      "source": [
        "## Train SVM on features\n",
        "Using the multiclass SVM code developed earlier in the assignment, train SVMs on top of the features extracted above; this should achieve better results than training SVMs directly on top of raw pixels."
      ]
    },
    {
      "cell_type": "code",
      "metadata": {
        "id": "_-8dh9VjyC34",
        "colab_type": "code",
        "colab": {}
      },
      "source": [
        "# Use the validation set to tune the learning rate and regularization strength\n",
        "\n",
        "linearclassifier = imp.load_source('linearclassifier', '/content/drive/My Drive/classifiers/assignment1/cs231n/classifiers/linear_classifier.py')\n",
        "from linearclassifier import LinearSVM\n",
        "\n",
        "learning_rates = [1e-9, 1e-8, 1e-7]\n",
        "regularization_strengths = [5e4, 5e5, 5e6]\n",
        "\n",
        "results = {}\n",
        "best_val = -1\n",
        "best_svm = None\n",
        "\n",
        "################################################################################\n",
        "# TODO:                                                                        #\n",
        "# Use the validation set to set the learning rate and regularization strength. #\n",
        "# This should be identical to the validation that you did for the SVM; save    #\n",
        "# the best trained classifer in best_svm. You might also want to play          #\n",
        "# with different numbers of bins in the color histogram. If you are careful    #\n",
        "# you should be able to get accuracy of near 0.44 on the validation set.       #\n",
        "################################################################################\n",
        "\n",
        "np.random.seed(0)\n",
        "\n",
        "grid_search = [ (lr,reg) for lr in learning_rates for reg in regularization_strengths ]\n",
        "\n",
        "for lr, reg in grid_search:\n",
        "    # Create SVM model\n",
        "    svm = LinearSVM()\n",
        "    \n",
        "    # Train phase\n",
        "    svm.train(X_train_feats, y_train, learning_rate=lr, reg=reg, num_iters=2000,\n",
        "            batch_size=200, verbose=False)\n",
        "    y_train_pred = svm.predict(X_train_feats)\n",
        "    # Train accuracy\n",
        "    train_accuracy = np.mean( y_train_pred == y_train )\n",
        "    \n",
        "    # Validation phase\n",
        "    y_val_pred = svm.predict(X_val_feats)\n",
        "    # Validation accuracy\n",
        "    val_accuracy = np.mean( y_val_pred == y_val )\n",
        "    \n",
        "    results[lr,reg] = (train_accuracy,val_accuracy)\n",
        "    \n",
        "    # Save best model\n",
        "    if val_accuracy > best_val:\n",
        "        best_val = val_accuracy\n",
        "        best_svm = svm\n",
        "\n",
        "################################################################################\n",
        "#                              END OF YOUR CODE                                #\n",
        "################################################################################\n",
        "\n",
        "# Print out results.\n",
        "for lr, reg in sorted(results):\n",
        "    train_accuracy, val_accuracy = results[(lr, reg)]\n",
        "    print('lr %e reg %e train accuracy: %f val accuracy: %f' % (\n",
        "                lr, reg, train_accuracy, val_accuracy))\n",
        "    \n",
        "print('best validation accuracy achieved during cross-validation: %f' % best_val)"
      ],
      "execution_count": 0,
      "outputs": []
    },
    {
      "cell_type": "code",
      "metadata": {
        "id": "3itt3zGpyC38",
        "colab_type": "code",
        "colab": {}
      },
      "source": [
        "# Evaluate your trained SVM on the test set\n",
        "y_test_pred = best_svm.predict(X_test_feats)\n",
        "test_accuracy = np.mean(y_test == y_test_pred)\n",
        "print(test_accuracy)"
      ],
      "execution_count": 0,
      "outputs": []
    },
    {
      "cell_type": "code",
      "metadata": {
        "id": "ilvjBGR5yC4B",
        "colab_type": "code",
        "colab": {}
      },
      "source": [
        "# An important way to gain intuition about how an algorithm works is to\n",
        "# visualize the mistakes that it makes. In this visualization, we show examples\n",
        "# of images that are misclassified by our current system. The first column\n",
        "# shows images that our system labeled as \"plane\" but whose true label is\n",
        "# something other than \"plane\".\n",
        "\n",
        "examples_per_class = 8\n",
        "classes = ['plane', 'car', 'bird', 'cat', 'deer', 'dog', 'frog', 'horse', 'ship', 'truck']\n",
        "for cls, cls_name in enumerate(classes):\n",
        "    idxs = np.where((y_test != cls) & (y_test_pred == cls))[0]\n",
        "    idxs = np.random.choice(idxs, examples_per_class, replace=False)\n",
        "    for i, idx in enumerate(idxs):\n",
        "        plt.subplot(examples_per_class, len(classes), i * len(classes) + cls + 1)\n",
        "        plt.imshow(X_test[idx].astype('uint8'))\n",
        "        plt.axis('off')\n",
        "        if i == 0:\n",
        "            plt.title(cls_name)\n",
        "plt.show()"
      ],
      "execution_count": 0,
      "outputs": []
    },
    {
      "cell_type": "markdown",
      "metadata": {
        "id": "SMjM9XdayC4E",
        "colab_type": "text"
      },
      "source": [
        "### Inline question 1:\n",
        "Describe the misclassification results that you see. Do they make sense?"
      ]
    },
    {
      "cell_type": "markdown",
      "metadata": {
        "id": "HiGNoj2UyC4F",
        "colab_type": "text"
      },
      "source": [
        "## Neural Network on image features\n",
        "Earlier in this assigment we saw that training a two-layer neural network on raw pixels achieved better classification performance than linear classifiers on raw pixels. In this notebook we have seen that linear classifiers on image features outperform linear classifiers on raw pixels. \n",
        "\n",
        "For completeness, we should also try training a neural network on image features. This approach should outperform all previous approaches: you should easily be able to achieve over 55% classification accuracy on the test set; our best model achieves about 60% classification accuracy."
      ]
    },
    {
      "cell_type": "code",
      "metadata": {
        "id": "2IsOBzSPyC4G",
        "colab_type": "code",
        "colab": {}
      },
      "source": [
        "# Preprocessing: Remove the bias dimension\n",
        "# Make sure to run this cell only ONCE\n",
        "print(X_train_feats.shape)\n",
        "X_train_feats = X_train_feats[:, :-1]\n",
        "X_val_feats = X_val_feats[:, :-1]\n",
        "X_test_feats = X_test_feats[:, :-1]\n",
        "\n",
        "print(X_train_feats.shape)"
      ],
      "execution_count": 0,
      "outputs": []
    },
    {
      "cell_type": "code",
      "metadata": {
        "id": "7Fp0YChzyC4J",
        "colab_type": "code",
        "colab": {}
      },
      "source": [
        "neural_net = imp.load_source('neural_net', '/content/drive/My Drive/classifiers/assignment1/cs231n/classifiers/neural_net.py')\n",
        "from neural_net import TwoLayerNet\n",
        "\n",
        "#from cs231n.classifiers.neural_net import TwoLayerNet\n",
        "\n",
        "input_dim = X_train_feats.shape[1]\n",
        "hidden_dim = 500\n",
        "num_classes = 10\n",
        "\n",
        "net = TwoLayerNet(input_dim, hidden_dim, num_classes)\n",
        "best_net = None\n",
        "\n",
        "################################################################################\n",
        "# TODO: Train a two-layer neural network on image features. You may want to    #\n",
        "# cross-validate various parameters as in previous sections. Store your best   #\n",
        "# model in the best_net variable.                                              #\n",
        "################################################################################\n",
        "# Your code\n",
        "\n",
        "def generate_random_hyperparams(lr_min, lr_max, reg_min, reg_max, h_min, h_max):\n",
        "    lr = 10**np.random.uniform(lr_min,lr_max)\n",
        "    reg = 10**np.random.uniform(reg_min,reg_max)\n",
        "    hidden = np.random.randint(h_min, h_max)\n",
        "    return lr, reg, hidden\n",
        "\n",
        "# Use of random search for hyperparameter search\n",
        "for i in range(20):\n",
        "    lr, reg, hidden_dim = generate_random_hyperparams(-1, 0, -7, -4, 10, 500)\n",
        "    # Create a two-layer network\n",
        "    net = TwoLayerNet(input_dim, hidden_dim, num_classes)\n",
        "    \n",
        "    # Train the network\n",
        "    stats = net.train(X_train_feats, y_train, X_val_feats, y_val,\n",
        "                num_iters=3000, batch_size=200,\n",
        "                learning_rate=lr, learning_rate_decay=0.95,\n",
        "                reg=reg, verbose=False)\n",
        "\n",
        "    # Predict on the training set\n",
        "    train_accuracy = (net.predict(X_train_feats) == y_train).mean()\n",
        "    \n",
        "    # Predict on the validation set\n",
        "    val_accuracy = (net.predict(X_val_feats) == y_val).mean()\n",
        "    \n",
        "    # Save best values\n",
        "    if val_accuracy > best_val:\n",
        "        best_val = val_accuracy\n",
        "        best_net = net\n",
        "    \n",
        "    # Print results\n",
        "    print('lr %e reg %e hid %d  train accuracy: %f val accuracy: %f' % (\n",
        "                lr, reg, hidden_dim, train_accuracy, val_accuracy))\n",
        "print('best validation accuracy achieved: %f' % best_val)\n",
        "\n",
        "################################################################################\n",
        "#                              END OF YOUR CODE                                #\n",
        "################################################################################"
      ],
      "execution_count": 0,
      "outputs": []
    },
    {
      "cell_type": "code",
      "metadata": {
        "id": "1kLa8At0yC4N",
        "colab_type": "code",
        "colab": {}
      },
      "source": [
        "# Run your best neural net classifier on the test set. You should be able\n",
        "# to get more than 55% accuracy.\n",
        "\n",
        "test_acc = (best_net.predict(X_test_feats) == y_test).mean()\n",
        "print(test_acc)"
      ],
      "execution_count": 0,
      "outputs": []
    }
  ]
}